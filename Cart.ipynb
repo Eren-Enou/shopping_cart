{
 "cells": [
  {
   "cell_type": "code",
   "execution_count": null,
   "id": "b9fa591b",
   "metadata": {},
   "outputs": [
    {
     "name": "stdout",
     "output_type": "stream",
     "text": [
      "Error, please select between add, remove, show, clear, and quit.\n",
      "Would you like to add, remove, show, clear, or quit? remove\n",
      "Enter an item to remove: bread\n",
      "You have 3 Breads in your cart, how many would you like to remove?\n",
      "Enter the number of Breads to remove: 2\n",
      "You now have 1 Breads\n",
      "Would you like to add, remove, show, clear, or quit? show\n",
      "Shopping Cart:\n",
      "\t1 - Breads $1.19\n",
      "Shopping Cart total = $1.19\n"
     ]
    }
   ],
   "source": [
    "from IPython.display import clear_output\n",
    "\n",
    "shopping_cart = {}\n",
    "\n",
    "def add(item, quantity, price):\n",
    "    shopping_cart[item] = [quantity,price]\n",
    "    print(f\"{quantity} - {item} @ ${price} each added to the shopping cart.\")\n",
    "\n",
    "def remove(item, quantity):\n",
    "    if shopping_cart[item][0] - quantity >= 0:\n",
    "        shopping_cart[item][0] = shopping_cart[item][0] - quantity\n",
    "        print(f\"You now have {shopping_cart[item][0]} {item}s\")\n",
    "    else:\n",
    "        print(f\"You don't have enough {item}s in your shopping cart to remove {quantity}.\")\n",
    "\n",
    "def show():\n",
    "    print(\"Shopping Cart:\")\n",
    "    total_price = 0.0\n",
    "    for item in shopping_cart:\n",
    "        print(f\"\\t{shopping_cart[item][0]} - {item}s ${shopping_cart[item][1]:.2f}\")\n",
    "        total_price += shopping_cart[item][0] * shopping_cart[item][1]\n",
    "    print(f\"Shopping Cart total = ${total_price:.2f}\")\n",
    "def clear():\n",
    "    shopping_cart.clear()\n",
    "        \n",
    "def run():\n",
    "    shopping = True\n",
    "    while shopping:\n",
    "        query = input(\"Would you like to add, remove, show, clear, or quit? \").capitalize()\n",
    "        if query == \"Add\":\n",
    "            item = input(\"Enter an item to add: \").capitalize()\n",
    "            quantity = int(input(f\"Enter the number of {item}s to add: \"))\n",
    "            price = float(input(f\"Enter the price of {item}s to add: \"))\n",
    "            add(item,quantity, price)\n",
    "        elif query == \"Remove\":\n",
    "            item = input(\"Enter an item to remove: \").capitalize()\n",
    "            if item in shopping_cart:\n",
    "                print(f\"You have {shopping_cart[item][0]} {item}s in your cart, how many would you like to remove?\")\n",
    "            else:\n",
    "                print(f\"Error, {item} is not in your shopping cart, please try again\")\n",
    "                continue            \n",
    "            quantity = int(input(f\"Enter the number of {item}s to remove: \"))\n",
    "            remove(item, quantity)\n",
    "        elif query == \"Show\":\n",
    "            show()\n",
    "        elif query == \"Clear\":\n",
    "            clear()\n",
    "            print(\"Shopping cart cleared\")\n",
    "        elif query == \"Quit\":\n",
    "            shopping = False\n",
    "            print(\"Thank you for shopping with us, please see your receipt\")\n",
    "            show()\n",
    "        else:\n",
    "            clear_output()\n",
    "            print(\"Error, please select between add, remove, show, clear, and quit.\")\n",
    "     \n",
    "\n",
    "    \n",
    "run()"
   ]
  },
  {
   "cell_type": "code",
   "execution_count": null,
   "id": "f99a580a",
   "metadata": {},
   "outputs": [],
   "source": []
  },
  {
   "cell_type": "code",
   "execution_count": null,
   "id": "0e448aff",
   "metadata": {},
   "outputs": [],
   "source": []
  }
 ],
 "metadata": {
  "kernelspec": {
   "display_name": "Python 3 (ipykernel)",
   "language": "python",
   "name": "python3"
  },
  "language_info": {
   "codemirror_mode": {
    "name": "ipython",
    "version": 3
   },
   "file_extension": ".py",
   "mimetype": "text/x-python",
   "name": "python",
   "nbconvert_exporter": "python",
   "pygments_lexer": "ipython3",
   "version": "3.9.13"
  }
 },
 "nbformat": 4,
 "nbformat_minor": 5
}
